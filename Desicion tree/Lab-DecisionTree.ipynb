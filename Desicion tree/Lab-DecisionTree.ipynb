{
 "cells": [
  {
   "cell_type": "code",
   "execution_count": 2,
   "metadata": {},
   "outputs": [],
   "source": [
    "import dtree as dt\n",
    "import monkdata as md\n",
    "import drawtree_qt5 as draw"
   ]
  },
  {
   "cell_type": "code",
   "execution_count": 5,
   "metadata": {},
   "outputs": [],
   "source": [
    "m1 = md.monk1\n",
    "m2 = md.monk2\n",
    "m3 = md.monk3\n",
    "monk = [m1, m2, m3]\n",
    "monk_t = [md.monk1test, md.monk2test, md.monk3test]"
   ]
  },
  {
   "cell_type": "code",
   "execution_count": 5,
   "metadata": {},
   "outputs": [
    {
     "name": "stdout",
     "output_type": "stream",
     "text": [
      "1.0\n",
      "1.0\n",
      "0.957117428264771\n",
      "0.9135964672699597\n",
      "0.9998061328047111\n",
      "0.9977724720899821\n"
     ]
    }
   ],
   "source": [
    "print(dtree.entropy(md.monk1))\n",
    "print(dtree.entropy(md.monk1test))\n",
    "print(dtree.entropy(md.monk2))\n",
    "print(dtree.entropy(md.monk2test))\n",
    "print(dtree.entropy(md.monk3))\n",
    "print(dtree.entropy(md.monk3test))"
   ]
  },
  {
   "cell_type": "code",
   "execution_count": 22,
   "metadata": {},
   "outputs": [
    {
     "name": "stdout",
     "output_type": "stream",
     "text": [
      "monk 1 :\n",
      "0.07527255560831925\n",
      "0.005838429962909286\n",
      "0.00470756661729721\n",
      "0.02631169650768228\n",
      "0.28703074971578435\n",
      "0.0007578557158638421\n",
      "monk 2 :\n",
      "0.0037561773775118823\n",
      "0.0024584986660830532\n",
      "0.0010561477158920196\n",
      "0.015664247292643818\n",
      "0.01727717693791797\n",
      "0.006247622236881467\n",
      "monk 3 :\n",
      "0.007120868396071844\n",
      "0.29373617350838865\n",
      "0.0008311140445336207\n",
      "0.002891817288654397\n",
      "0.25591172461972755\n",
      "0.007077026074097326\n"
     ]
    }
   ],
   "source": [
    "for i in range(3):\n",
    "    print(\"monk\" , i+1 , \":\")\n",
    "    for j in range(6):\n",
    "        print(dt.averageGain(monk[i], md.attributes[j]))"
   ]
  },
  {
   "cell_type": "code",
   "execution_count": 28,
   "metadata": {},
   "outputs": [
    {
     "name": "stdout",
     "output_type": "stream",
     "text": [
      "MONK- 1\n",
      "value =  1  :  0.0   23.387096774193548 %\n",
      "value =  2  :  0.9383153522334069   25.0 %\n",
      "value =  3  :  0.9480782435939054   24.193548387096776 %\n",
      "value =  4  :  0.9081783472997051   27.419354838709676 %\n",
      "MONK- 2\n",
      "value =  1  :  0.9103480624345153   25.443786982248522 %\n",
      "value =  2  :  1.0   23.668639053254438 %\n",
      "value =  3  :  0.9633355456726842   28.994082840236686 %\n",
      "value =  4  :  0.8779620013943912   21.893491124260354 %\n",
      "MONK- 3\n",
      "value =  1  :  0.9182958340544896   31.9672131147541 %\n",
      "value =  2  :  0.8296071030882032   34.42622950819672 %\n",
      "value =  3  :  0.37764632137370036   33.60655737704918 %\n"
     ]
    }
   ],
   "source": [
    "for i in range(3):\n",
    "    best = dt.bestAttribute(monk[i], md.attributes)\n",
    "    print(\"MONK-\" , i + 1 )\n",
    "    for v in best.values:\n",
    "        subset = dt.select(monk[i], best, v)\n",
    "        print(\"value = \", v ,\" : \" , dt.entropy(subset) , \" \" ,100 * len(subset) / len(monk[i]),\"%\")"
   ]
  },
  {
   "cell_type": "code",
   "execution_count": 32,
   "metadata": {},
   "outputs": [
    {
     "name": "stdout",
     "output_type": "stream",
     "text": [
      "train correct rate: 1.0\n",
      "test correct rate: 0.8287037037037037\n",
      "train correct rate: 1.0\n",
      "test correct rate: 0.6921296296296297\n",
      "train correct rate: 1.0\n",
      "test correct rate: 0.9444444444444444\n"
     ]
    }
   ],
   "source": [
    "tree = []\n",
    "for i in range(3):\n",
    "    tree.append(dt.buildTree(monk[i], md.attributes))\n",
    "    train_c = dt.check(tree[i], monk[i])\n",
    "    test_c = dt.check(tree[i], monk_t[i])\n",
    "    print(\"train correct rate:\",train_c)\n",
    "    print(\"test correct rate:\",test_c)"
   ]
  },
  {
   "cell_type": "code",
   "execution_count": 40,
   "metadata": {},
   "outputs": [
    {
     "ename": "SystemExit",
     "evalue": "0",
     "output_type": "error",
     "traceback": [
      "An exception has occurred, use %tb to see the full traceback.\n",
      "\u001b[1;31mSystemExit\u001b[0m\u001b[1;31m:\u001b[0m 0\n"
     ]
    }
   ],
   "source": [
    "draw.drawTree(tree[0])"
   ]
  },
  {
   "cell_type": "code",
   "execution_count": 37,
   "metadata": {
    "scrolled": true
   },
   "outputs": [
    {
     "ename": "SystemExit",
     "evalue": "0",
     "output_type": "error",
     "traceback": [
      "An exception has occurred, use %tb to see the full traceback.\n",
      "\u001b[1;31mSystemExit\u001b[0m\u001b[1;31m:\u001b[0m 0\n"
     ]
    }
   ],
   "source": [
    "draw.drawTree(tree[1])"
   ]
  },
  {
   "cell_type": "code",
   "execution_count": 38,
   "metadata": {},
   "outputs": [
    {
     "ename": "SystemExit",
     "evalue": "0",
     "output_type": "error",
     "traceback": [
      "An exception has occurred, use %tb to see the full traceback.\n",
      "\u001b[1;31mSystemExit\u001b[0m\u001b[1;31m:\u001b[0m 0\n"
     ]
    }
   ],
   "source": [
    "draw.drawTree(tree[2])"
   ]
  },
  {
   "cell_type": "code",
   "execution_count": 11,
   "metadata": {},
   "outputs": [],
   "source": [
    "fractions = [0.3, 0.4, 0.5, 0.6, 0.7, 0.8]"
   ]
  },
  {
   "cell_type": "code",
   "execution_count": 1,
   "metadata": {},
   "outputs": [],
   "source": [
    "import random\n",
    "def partition(data, fraction): \n",
    "    ldata = list(data) \n",
    "    random.shuffle(ldata) \n",
    "    breakPoint = int(len(ldata) * fraction) \n",
    "    return ldata[:breakPoint], ldata[breakPoint:]"
   ]
  },
  {
   "cell_type": "code",
   "execution_count": 23,
   "metadata": {},
   "outputs": [],
   "source": [
    "def pruning(monk, test, itr , fractions):\n",
    "    pruning_err = [None]*len(fractions)\n",
    "    for i in range(len(fractions)):\n",
    "        pruning_err[i] = [None]*itr\n",
    "    count = 0\n",
    "    for ft in fractions:\n",
    "        for i in range(itr):\n",
    "            data_tr, data_va = partition(monk, ft)\n",
    "            tree_tr = dt.buildTree(data_tr, md.attributes)\n",
    "            train_correct = dt.check(tree_tr, data_va)\n",
    "            best_correct = train_correct\n",
    "            best_pruning = tree_tr\n",
    "            trees = dt.allPruned(tree_tr)\n",
    "            for tree in trees:\n",
    "                valid_correct = dt.check(tree, data_va)\n",
    "                if(valid_correct > train_correct):\n",
    "                    best_correct = valid_correct\n",
    "                    best_pruning = tree\n",
    "            new_correct = dt.check(best_pruning, test)\n",
    "            pruning_err[count][i] = 1 - new_correct\n",
    "        count += 1\n",
    "    return pruning_err"
   ]
  },
  {
   "cell_type": "code",
   "execution_count": 28,
   "metadata": {},
   "outputs": [],
   "source": [
    "def evaluate(err):\n",
    "    erravgs = []\n",
    "    errvars = []\n",
    "    for i in range(len(err)):\n",
    "        erravg = 0\n",
    "        for j in range(len(err[i])):\n",
    "            erravg += (err[i][j]) / len(err[i])\n",
    "        erravgs.append(round(erravg,5))\n",
    "    \n",
    "    for i in range(len(err)):\n",
    "        errvar = 0\n",
    "        for j in range(len(err[i])):\n",
    "            errvar += pow(err[i][j] - erravgs[i],2) / len(err[i])\n",
    "        errvars.append(round(errvar,5))\n",
    "    return erravgs , errvars"
   ]
  },
  {
   "cell_type": "code",
   "execution_count": 24,
   "metadata": {},
   "outputs": [],
   "source": [
    "err = pruning(monk[0], monk_t[0], 500 , fractions)"
   ]
  },
  {
   "cell_type": "code",
   "execution_count": 30,
   "metadata": {},
   "outputs": [],
   "source": [
    "err1 = err"
   ]
  },
  {
   "cell_type": "code",
   "execution_count": 34,
   "metadata": {},
   "outputs": [
    {
     "name": "stdout",
     "output_type": "stream",
     "text": [
      "[0.23631, 0.21218, 0.18897, 0.16412, 0.15232, 0.1399]\n",
      "[0.00225, 0.00222, 0.00229, 0.0023, 0.00248, 0.00225]\n"
     ]
    }
   ],
   "source": [
    "avg1, var1 = evaluate(err1)\n",
    "print(avg1)\n",
    "print(var1)"
   ]
  },
  {
   "cell_type": "code",
   "execution_count": 31,
   "metadata": {},
   "outputs": [],
   "source": [
    "err2 = pruning(monk[2], monk_t[2], 500 , fractions)"
   ]
  },
  {
   "cell_type": "code",
   "execution_count": 35,
   "metadata": {},
   "outputs": [
    {
     "name": "stdout",
     "output_type": "stream",
     "text": [
      "[0.09786, 0.07324, 0.06218, 0.05319, 0.05172, 0.04888]\n",
      "[0.00395, 0.00195, 0.00137, 0.00085, 0.0007, 0.00048]\n"
     ]
    }
   ],
   "source": [
    "avg2, var2 = evaluate(err2)\n",
    "print(avg2)\n",
    "print(var2)"
   ]
  },
  {
   "cell_type": "code",
   "execution_count": 41,
   "metadata": {},
   "outputs": [
    {
     "data": {
      "text/plain": [
       "<matplotlib.legend.Legend at 0x16033073fd0>"
      ]
     },
     "execution_count": 41,
     "metadata": {},
     "output_type": "execute_result"
    },
    {
     "data": {
      "image/png": "[encoded data removed]",
      "text/plain": [
       "<Figure size 648x432 with 1 Axes>"
      ]
     },
     "metadata": {
      "needs_background": "light"
     },
     "output_type": "display_data"
    }
   ],
   "source": [
    "from matplotlib import pyplot as plt\n",
    "fig = plt.figure(figsize=(9, 6))\n",
    "ax1 = fig.add_subplot(111)\n",
    "ax1.plot(fractions, avg1, c='b', marker=\"o\", label=\"MONK-1\")\n",
    "ax1.plot(fractions, avg2, c='g', marker=\"s\", label=\"MONK-3\")\n",
    "plt.plot(0.5,0.17,'bo',label=\"not-pruning1\")\n",
    "plt.plot(0.5,0.05,'go',label=\"not-pruning2\")\n",
    "ax1.set_title(\"Evaluations\")\n",
    "ax1.set_xlabel(\"fractions\")\n",
    "ax1.set_ylabel(\"error_rate\")\n",
    "plt.legend(loc='upper right')"
   ]
  },
  {
   "cell_type": "code",
   "execution_count": null,
   "metadata": {},
   "outputs": [],
   "source": [
    "plt.savefig(\"err_evaluations.png\")"
   ]
  }
 ],
 "metadata": {
  "kernelspec": {
   "display_name": "Python 3",
   "language": "python",
   "name": "python3"
  },
  "language_info": {
   "codemirror_mode": {
    "name": "ipython",
    "version": 3
   },
   "file_extension": ".py",
   "mimetype": "text/x-python",
   "name": "python",
   "nbconvert_exporter": "python",
   "pygments_lexer": "ipython3",
   "version": "3.7.3"
  }
 },
 "nbformat": 4,
 "nbformat_minor": 2
}
