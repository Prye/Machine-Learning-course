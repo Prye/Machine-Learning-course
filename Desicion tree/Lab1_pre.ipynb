{
 "cells": [
  {
   "cell_type": "markdown",
   "metadata": {},
   "source": [
    "## Assignment 0: Each one of the datasets has properties which makes them hard to learn. Motivate which of the three problems is most difficult for a decision tree algorithm to learn."
   ]
  },
  {
   "cell_type": "markdown",
   "metadata": {},
   "source": [
    "![data_rules](data.png)"
   ]
  },
  {
   "cell_type": "markdown",
   "metadata": {},
   "source": [
    "#### 1. MONK1 a1 = a2 can't be learned easily in the proceed of separating\n",
    "#### 2. MONK2 There are so many probabilities and randomness \n",
    "#### 3. MONK3 5% additional noise"
   ]
  },
  {
   "cell_type": "markdown",
   "metadata": {},
   "source": [
    "## Assignment 1: The file dtree.py defines a function entropy which calculates the entropy of a dataset. Import this file along with the monks datasets and use it to calculate the entropy of the training datasets."
   ]
  },
  {
   "cell_type": "code",
   "execution_count": 1,
   "metadata": {},
   "outputs": [],
   "source": [
    "import dtree as dt\n",
    "import monkdata as md\n",
    "import drawtree_qt5 as draw"
   ]
  },
  {
   "cell_type": "code",
   "execution_count": 2,
   "metadata": {},
   "outputs": [],
   "source": [
    "m1 = md.monk1\n",
    "m2 = md.monk2\n",
    "m3 = md.monk3\n",
    "monk = [m1, m2, m3]\n",
    "monk_t = [md.monk1test, md.monk2test, md.monk3test]"
   ]
  },
  {
   "cell_type": "code",
   "execution_count": 5,
   "metadata": {},
   "outputs": [
    {
     "name": "stdout",
     "output_type": "stream",
     "text": [
      "1.0\n",
      "1.0\n",
      "0.957117428264771\n",
      "0.9135964672699597\n",
      "0.9998061328047111\n",
      "0.9977724720899821\n"
     ]
    }
   ],
   "source": [
    "print(dtree.entropy(md.monk1))\n",
    "print(dtree.entropy(md.monk1test))\n",
    "print(dtree.entropy(md.monk2))\n",
    "print(dtree.entropy(md.monk2test))\n",
    "print(dtree.entropy(md.monk3))\n",
    "print(dtree.entropy(md.monk3test))"
   ]
  },
  {
   "cell_type": "markdown",
   "metadata": {},
   "source": [
    "## Assignment 2: Explain entropy for a uniform distribution and a non-uniform distribution, present some example distributions with high and low entropy."
   ]
  },
  {
   "cell_type": "markdown",
   "metadata": {},
   "source": [
    "#### The uniform distribution always has greater entropy because of the equal propablilities.\n",
    "#### 1. Bernoulli distribution(high)\n",
    "#### 2. Poisson distribution(low)"
   ]
  },
  {
   "cell_type": "markdown",
   "metadata": {},
   "source": [
    "## Assignment 3: Use the function averageGain (defined in dtree.py) to calculate the expected information gain corresponding to each of the six attributes. Note that the attributes are represented as instances of the class Attribute (defined in monkdata.py) which you can access via m.attributes[0], ..., m.attributes[5]. Based on the results, which attribute should be used for splitting the examples at the root node?"
   ]
  },
  {
   "cell_type": "code",
   "execution_count": 22,
   "metadata": {},
   "outputs": [
    {
     "name": "stdout",
     "output_type": "stream",
     "text": [
      "monk 1 :\n",
      "0.07527255560831925\n",
      "0.005838429962909286\n",
      "0.00470756661729721\n",
      "0.02631169650768228\n",
      "0.28703074971578435\n",
      "0.0007578557158638421\n",
      "monk 2 :\n",
      "0.0037561773775118823\n",
      "0.0024584986660830532\n",
      "0.0010561477158920196\n",
      "0.015664247292643818\n",
      "0.01727717693791797\n",
      "0.006247622236881467\n",
      "monk 3 :\n",
      "0.007120868396071844\n",
      "0.29373617350838865\n",
      "0.0008311140445336207\n",
      "0.002891817288654397\n",
      "0.25591172461972755\n",
      "0.007077026074097326\n"
     ]
    }
   ],
   "source": [
    "for i in range(3):\n",
    "    print(\"monk\" , i+1 , \":\")\n",
    "    for j in range(6):\n",
    "        print(dt.averageGain(monk[i], md.attributes[j]))"
   ]
  },
  {
   "cell_type": "markdown",
   "metadata": {},
   "source": [
    "#### 1. a5(0.29)\n",
    "#### 2. a5(0.17)\n",
    "#### 3. a2(0.29)"
   ]
  },
  {
   "cell_type": "markdown",
   "metadata": {},
   "source": [
    "## Assignment 4: For splitting we choose the attribute that maximizes the information gain, Eq.3. Looking at Eq.3 how does the entropy of the subsets, Sk, look like when the information gain is maximized? How can we motivate using the information gain as a heuristic for picking an attribute for splitting? Think about reduction in entropy after the split and what the entropy implies."
   ]
  },
  {
   "cell_type": "markdown",
   "metadata": {},
   "source": [
    "#### initial entropy\n",
    "1. 1.0\n",
    "2. 0.957\n",
    "3. 0.999"
   ]
  },
  {
   "cell_type": "code",
   "execution_count": 28,
   "metadata": {},
   "outputs": [
    {
     "name": "stdout",
     "output_type": "stream",
     "text": [
      "MONK- 1\n",
      "value =  1  :  0.0   23.387096774193548 %\n",
      "value =  2  :  0.9383153522334069   25.0 %\n",
      "value =  3  :  0.9480782435939054   24.193548387096776 %\n",
      "value =  4  :  0.9081783472997051   27.419354838709676 %\n",
      "MONK- 2\n",
      "value =  1  :  0.9103480624345153   25.443786982248522 %\n",
      "value =  2  :  1.0   23.668639053254438 %\n",
      "value =  3  :  0.9633355456726842   28.994082840236686 %\n",
      "value =  4  :  0.8779620013943912   21.893491124260354 %\n",
      "MONK- 3\n",
      "value =  1  :  0.9182958340544896   31.9672131147541 %\n",
      "value =  2  :  0.8296071030882032   34.42622950819672 %\n",
      "value =  3  :  0.37764632137370036   33.60655737704918 %\n"
     ]
    }
   ],
   "source": [
    "for i in range(3):\n",
    "    best = dt.bestAttribute(monk[i], md.attributes)\n",
    "    print(\"MONK-\" , i + 1 )\n",
    "    for v in best.values:\n",
    "        subset = dt.select(monk[i], best, v)\n",
    "        print(\"value = \", v ,\" : \" , dt.entropy(subset) , \" \" ,100 * len(subset) / len(monk[i]),\"%\")"
   ]
  },
  {
   "cell_type": "markdown",
   "metadata": {},
   "source": [
    "## Assignment 5: Build the full decision trees for all three Monk datasets using buildTree. Then, use the function check to measure the performance of the decision tree on both the training and test datasets. Compute the train and test set errors for the three Monk datasets for the full trees. Were your assumptions about the datasets correct? Explain the results you get for the training and test datasets."
   ]
  },
  {
   "cell_type": "code",
   "execution_count": 8,
   "metadata": {},
   "outputs": [
    {
     "name": "stdout",
     "output_type": "stream",
     "text": [
      "train error rate: 0.0\n",
      "test error rate: 0.1713\n",
      "train error rate: 0.0\n",
      "test error rate: 0.30787\n",
      "train error rate: 0.0\n",
      "test error rate: 0.05556\n"
     ]
    }
   ],
   "source": [
    "tree = []\n",
    "for i in range(3):\n",
    "    tree.append(dt.buildTree(monk[i], md.attributes))\n",
    "    train_c = dt.check(tree[i], monk[i])\n",
    "    test_c = dt.check(tree[i], monk_t[i])\n",
    "    print(\"train error rate:\",round(1-train_c,5))\n",
    "    print(\"test error rate:\",round(1-test_c,5))"
   ]
  },
  {
   "cell_type": "markdown",
   "metadata": {},
   "source": [
    "#### Correct. Of course training errors is zero because there's no limitation of depth, and the rules in MONK-2 are too difficult to learn so the test error rate is high."
   ]
  },
  {
   "cell_type": "code",
   "execution_count": 11,
   "metadata": {},
   "outputs": [
    {
     "ename": "SystemExit",
     "evalue": "0",
     "output_type": "error",
     "traceback": [
      "An exception has occurred, use %tb to see the full traceback.\n",
      "\u001b[1;31mSystemExit\u001b[0m\u001b[1;31m:\u001b[0m 0\n"
     ]
    }
   ],
   "source": [
    "draw.drawTree(tree[0])"
   ]
  },
  {
   "cell_type": "code",
   "execution_count": 12,
   "metadata": {
    "scrolled": true
   },
   "outputs": [
    {
     "ename": "SystemExit",
     "evalue": "0",
     "output_type": "error",
     "traceback": [
      "An exception has occurred, use %tb to see the full traceback.\n",
      "\u001b[1;31mSystemExit\u001b[0m\u001b[1;31m:\u001b[0m 0\n"
     ]
    }
   ],
   "source": [
    "draw.drawTree(tree[1])"
   ]
  },
  {
   "cell_type": "code",
   "execution_count": 38,
   "metadata": {},
   "outputs": [
    {
     "ename": "SystemExit",
     "evalue": "0",
     "output_type": "error",
     "traceback": [
      "An exception has occurred, use %tb to see the full traceback.\n",
      "\u001b[1;31mSystemExit\u001b[0m\u001b[1;31m:\u001b[0m 0\n"
     ]
    }
   ],
   "source": [
    "draw.drawTree(tree[2])"
   ]
  },
  {
   "cell_type": "markdown",
   "metadata": {},
   "source": [
    "## Assignment 6: Explain pruning from a bias variance trade-off perspective."
   ]
  },
  {
   "cell_type": "markdown",
   "metadata": {},
   "source": [
    "![bias and variance](b-v.png)\n",
    "![error and complexity](e-c1.png)\n",
    "![error and complexity](e-c2.png)"
   ]
  },
  {
   "cell_type": "markdown",
   "metadata": {},
   "source": [
    "## Assignment 7: Evaluate the effect pruning has on the test error for the monk1 and monk3 datasets, in particular determine the optimal partition into training and pruning by optimizing the parameter fraction. Plot the classification error on the test sets as a function of the parameter fraction ∈ {0.3, 0.4, 0.5, 0.6, 0.7, 0.8}.\n",
    "## Note that the split of the data is random. We therefore need to compute the statistics over several runs of the split to be able to draw any conclusions. Reasonable statistics includes mean and a measure of the spread. Do remember to print axes labels, legends and data points as you will not pass without them."
   ]
  },
  {
   "cell_type": "code",
   "execution_count": 3,
   "metadata": {},
   "outputs": [],
   "source": [
    "fractions = [0.3, 0.4, 0.5, 0.6, 0.7, 0.8]"
   ]
  },
  {
   "cell_type": "code",
   "execution_count": 4,
   "metadata": {},
   "outputs": [],
   "source": [
    "import random\n",
    "def partition(data, fraction): \n",
    "    ldata = list(data) \n",
    "    random.shuffle(ldata) \n",
    "    breakPoint = int(len(ldata) * fraction) \n",
    "    return ldata[:breakPoint], ldata[breakPoint:]"
   ]
  },
  {
   "cell_type": "code",
   "execution_count": 5,
   "metadata": {},
   "outputs": [],
   "source": [
    "def pruning(monk, test, itr , fractions):\n",
    "    pruning_err = [None]*len(fractions)\n",
    "    for i in range(len(fractions)):\n",
    "        pruning_err[i] = [None]*itr\n",
    "    count = 0\n",
    "    for ft in fractions:\n",
    "        for i in range(itr):\n",
    "            data_tr, data_va = partition(monk, ft)\n",
    "            tree_tr = dt.buildTree(data_tr, md.attributes)\n",
    "            train_correct = dt.check(tree_tr, data_va)\n",
    "            best_correct = train_correct\n",
    "            best_pruning = tree_tr\n",
    "            trees = dt.allPruned(tree_tr)\n",
    "            for tree in trees:\n",
    "                valid_correct = dt.check(tree, data_va)\n",
    "                if(valid_correct > train_correct):\n",
    "                    best_correct = valid_correct\n",
    "                    best_pruning = tree\n",
    "            new_correct = dt.check(best_pruning, test)\n",
    "            pruning_err[count][i] = 1 - new_correct\n",
    "        count += 1\n",
    "    return pruning_err"
   ]
  },
  {
   "cell_type": "code",
   "execution_count": 6,
   "metadata": {},
   "outputs": [],
   "source": [
    "def evaluate(err):\n",
    "    erravgs = []\n",
    "    errvars = []\n",
    "    for i in range(len(err)):\n",
    "        erravg = 0\n",
    "        for j in range(len(err[i])):\n",
    "            erravg += (err[i][j]) / len(err[i])\n",
    "        erravgs.append(round(erravg,5))\n",
    "    \n",
    "    for i in range(len(err)):\n",
    "        errvar = 0\n",
    "        for j in range(len(err[i])):\n",
    "            errvar += pow(err[i][j] - erravgs[i],2) / len(err[i])\n",
    "        errvars.append(round(errvar,5))\n",
    "    return erravgs , errvars"
   ]
  },
  {
   "cell_type": "code",
   "execution_count": 7,
   "metadata": {},
   "outputs": [],
   "source": [
    "err1 = pruning(monk[0], monk_t[0], 500 , fractions)"
   ]
  },
  {
   "cell_type": "code",
   "execution_count": 8,
   "metadata": {},
   "outputs": [
    {
     "name": "stdout",
     "output_type": "stream",
     "text": [
      "[0.23766, 0.21435, 0.18222, 0.16317, 0.14797, 0.14787]\n",
      "[0.00198, 0.00226, 0.00256, 0.00236, 0.00239, 0.00189]\n"
     ]
    }
   ],
   "source": [
    "avg1, var1 = evaluate(err1)\n",
    "print(avg1)\n",
    "print(var1)"
   ]
  },
  {
   "cell_type": "code",
   "execution_count": 9,
   "metadata": {},
   "outputs": [],
   "source": [
    "err2 = pruning(monk[2], monk_t[2], 500 , fractions)"
   ]
  },
  {
   "cell_type": "code",
   "execution_count": 10,
   "metadata": {},
   "outputs": [
    {
     "name": "stdout",
     "output_type": "stream",
     "text": [
      "[0.09329, 0.06988, 0.06302, 0.05694, 0.05152, 0.04719]\n",
      "[0.00325, 0.0018, 0.00136, 0.00098, 0.00066, 0.00045]\n"
     ]
    }
   ],
   "source": [
    "avg2, var2 = evaluate(err2)\n",
    "print(avg2)\n",
    "print(var2)"
   ]
  },
  {
   "cell_type": "code",
   "execution_count": 41,
   "metadata": {},
   "outputs": [
    {
     "data": {
      "text/plain": [
       "<matplotlib.legend.Legend at 0x16033073fd0>"
      ]
     },
     "execution_count": 41,
     "metadata": {},
     "output_type": "execute_result"
    },
    {
     "data": {
      "image/png": "[encoded data removed]",
      "text/plain": [
       "<Figure size 648x432 with 1 Axes>"
      ]
     },
     "metadata": {
      "needs_background": "light"
     },
     "output_type": "display_data"
    }
   ],
   "source": [
    "from matplotlib import pyplot as plt\n",
    "fig = plt.figure(figsize=(9, 6))\n",
    "ax1 = fig.add_subplot(111)\n",
    "ax1.plot(fractions, avg1, c='b', marker=\"o\", label=\"MONK-1\")\n",
    "ax1.plot(fractions, avg2, c='g', marker=\"s\", label=\"MONK-3\")\n",
    "plt.plot(0.5,0.17,'bo',label=\"not-pruning1\")\n",
    "plt.plot(0.5,0.05,'go',label=\"not-pruning2\")\n",
    "ax1.set_title(\"Evaluations\")\n",
    "ax1.set_xlabel(\"fractions\")\n",
    "ax1.set_ylabel(\"error_rate\")\n",
    "plt.legend(loc='upper right')"
   ]
  },
  {
   "cell_type": "code",
   "execution_count": 15,
   "metadata": {},
   "outputs": [
    {
     "data": {
      "text/plain": [
       "<matplotlib.legend.Legend at 0x1f50ab9d7b8>"
      ]
     },
     "execution_count": 15,
     "metadata": {},
     "output_type": "execute_result"
    },
    {
     "data": {
      "image/png": "[encoded data removed]",
      "text/plain": [
       "<Figure size 648x432 with 1 Axes>"
      ]
     },
     "metadata": {
      "needs_background": "light"
     },
     "output_type": "display_data"
    }
   ],
   "source": [
    "from matplotlib import pyplot as plt\n",
    "fig = plt.figure(figsize=(9, 6))\n",
    "ax1 = fig.add_subplot(111)\n",
    "ax1.plot(fractions, var1, c='b', marker=\"o\", label=\"MONK-1\")\n",
    "ax1.plot(fractions, var2, c='g', marker=\"s\", label=\"MONK-3\")\n",
    "ax1.set_title(\"Evaluations-variance\")\n",
    "ax1.set_xlabel(\"fractions\")\n",
    "ax1.set_ylabel(\"error_rate\")\n",
    "plt.legend(loc='upper right')"
   ]
  },
  {
   "cell_type": "code",
   "execution_count": null,
   "metadata": {},
   "outputs": [],
   "source": [
    "plt.savefig(\"err_evaluations.png\")"
   ]
  }
 ],
 "metadata": {
  "kernelspec": {
   "display_name": "Python 3",
   "language": "python",
   "name": "python3"
  },
  "language_info": {
   "codemirror_mode": {
    "name": "ipython",
    "version": 3
   },
   "file_extension": ".py",
   "mimetype": "text/x-python",
   "name": "python",
   "nbconvert_exporter": "python",
   "pygments_lexer": "ipython3",
   "version": "3.7.3"
  }
 },
 "nbformat": 4,
 "nbformat_minor": 2
}
