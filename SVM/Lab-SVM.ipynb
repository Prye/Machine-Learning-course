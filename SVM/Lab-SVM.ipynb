{
 "cells": [
  {
   "cell_type": "code",
   "execution_count": null,
   "metadata": {},
   "outputs": [],
   "source": [
    "import math\n",
    "import random\n",
    "from scipy.optimize import minimize\n",
    "import matplotlib.pyplot as plt\n",
    "import numpy as np"
   ]
  },
  {
   "cell_type": "code",
   "execution_count": null,
   "metadata": {},
   "outputs": [],
   "source": [
    "def polynomial_kernel(x, y, p):\n",
    "    return pow(np.dot(x,y)+1, p)\n",
    "\n",
    "def linear_kernel(x, y):\n",
    "    return np.dot(x,y)\n",
    "\n",
    "def radial_basis_kernel(sigma, x, y):\n",
    "    sec1 = np.linalg.norm(np.subtract(x,y))\n",
    "    sec2 = -((sec1**2) / (2*(sigma**2)))\n",
    "    return math.exp(sec2)"
   ]
  },
  {
   "cell_type": "code",
   "execution_count": null,
   "metadata": {},
   "outputs": [],
   "source": [
    "def objective(a):\n",
    "    sec = 0\n",
    "    for i in range(N):\n",
    "        for j in range(N):\n",
    "            sec += 0.5*a[i]*a[j]*target[i]*target[j]*kernel(x[i], x[j])\n",
    "    return sec - np.sum(a)"
   ]
  },
  {
   "cell_type": "code",
   "execution_count": null,
   "metadata": {},
   "outputs": [],
   "source": [
    "def zerofun(a):\n",
    "    z=0\n",
    "    for i in range(len(a)):\n",
    "        z += a[i]*target[i]\n",
    "        return z"
   ]
  },
  {
   "cell_type": "code",
   "execution_count": null,
   "metadata": {},
   "outputs": [],
   "source": [
    "def judge_non_zero(n):\n",
    "    if abs(n) > 0.00001:\n",
    "        return True\n",
    "    else:\n",
    "        return False"
   ]
  },
  {
   "cell_type": "code",
   "execution_count": null,
   "metadata": {},
   "outputs": [],
   "source": [
    "def b_value(data):\n",
    "    sec = 0\n",
    "    for i in range(len(data)):\n",
    "        sec += data[i][0][0]*data[i][1][0]*kernel(data[i][2],data[0][2])\n",
    "    b = sec-data[0][0][0]\n",
    "    return b"
   ]
  },
  {
   "cell_type": "code",
   "execution_count": null,
   "metadata": {},
   "outputs": [],
   "source": [
    "def indicator(x, data):\n",
    "    sec = 0\n",
    "    for i in range(len(data)):\n",
    "        sec += data[i][0][0]*data[i][1][0]*kernel(x,data[i][2])\n",
    "    return sec-b_value(data)"
   ]
  },
  {
   "cell_type": "code",
   "execution_count": null,
   "metadata": {},
   "outputs": [],
   "source": [
    "def random_data(n, d, s, u):\n",
    "    return s * np.random.randn(n, d) + u"
   ]
  },
  {
   "cell_type": "code",
   "execution_count": null,
   "metadata": {},
   "outputs": [],
   "source": [
    "def generate_data(d, ptr):\n",
    "    # ptr : for [data_size, standard deviation, average[0], average[1]] in 3\n",
    "    \n",
    "    classA = np.concatenate((random_data(ptr[0][0],d, ptr[0][1], [ptr[0][2],ptr[0][3]]),\n",
    "                                random_data(ptr[1][0],d, ptr[1][1], [ptr[1][2],ptr[1][3]])))\n",
    "    \n",
    "    classB = np.concatenate((random_data(ptr[2][0],d, ptr[2][1], [ptr[2][2],ptr[2][3]]),\n",
    "                                random_data(ptr[3][0],d, ptr[3][1], [ptr[3][2],ptr[3][3]])))\n",
    "    inputs = np.concatenate((classA, classB))\n",
    "    targets = np.concatenate((\n",
    "        np.ones(classA.shape[0]),\n",
    "        -np.ones(classB.shape[0])\n",
    "    ))\n",
    "    N = inputs.shape[0] ## Number of rows ie. samples\n",
    "    permute = list(range(N))\n",
    "    random.shuffle(permute)\n",
    "    inputs = inputs[permute, :]\n",
    "    targets = targets[permute]\n",
    "    return (inputs, targets, classA, classB)"
   ]
  },
  {
   "cell_type": "code",
   "execution_count": null,
   "metadata": {},
   "outputs": [],
   "source": [
    "def kernel(x, y):\n",
    "    # return linear_kernel(x, y)\n",
    "    # return polynomial_kernel(x, y, 7)\n",
    "    return radial_basis_kernel(0.3, x, y)"
   ]
  },
  {
   "cell_type": "code",
   "execution_count": null,
   "metadata": {},
   "outputs": [],
   "source": [
    "data_shape = [[ 10 , 0.2 , 1.5 , 0.5 ],\n",
    "              [ 10 , 0.2, -1.5 , 0.5 ],\n",
    "              [ 10 , 0.2 , 0.0 , 0.5 ],\n",
    "              [ 10 , 0.2 , 0.0 , 0.5 ]]\n",
    "D = 2\n",
    "C = 10"
   ]
  },
  {
   "cell_type": "code",
   "execution_count": null,
   "metadata": {},
   "outputs": [],
   "source": [
    "# random.seed(100)\n",
    "x,target, classA, classB = generate_data(D, data_shape)\n",
    "N = len(x)"
   ]
  },
  {
   "cell_type": "code",
   "execution_count": null,
   "metadata": {},
   "outputs": [],
   "source": [
    "start = np.zeros(N)\n",
    "sv = []\n",
    "ret = minimize(objective, start, bounds=[(0, C) for b in range(N)],constraints={'type':'eq', 'fun':zerofun})\n",
    "if not ret.success:\n",
    "    print(\"Optimization was unsuccessful\")\n",
    "alpha = ret['x']\n",
    "for i in range(len(alpha)):\n",
    "    if judge_non_zero:\n",
    "        sv.append([[alpha[i]],[target[i]],[x[i][0], x[i][1]]])\n",
    "b = b_value(sv)"
   ]
  },
  {
   "cell_type": "code",
   "execution_count": null,
   "metadata": {
    "scrolled": true
   },
   "outputs": [],
   "source": [
    "plt.plot([p[0] for p in classA], [p[1] for p in classA],'b.')\n",
    "plt.plot([p[0] for p in classB], [p[1] for p in classB],'r.')\n",
    "plt.axis('equal')\n",
    "xgrid=np.linspace(-5,5)\n",
    "ygrid=np.linspace(-4,4)\n",
    "grid=np.array([[indicator([x,y], sv) for x in xgrid ] for y in ygrid])\n",
    "plt.contour(xgrid, ygrid, grid, (-1.0,0.0,1.0), colors =('red' ,'black' , 'blue'),linewidths=(1 , 3 , 1))\n",
    "plt.show()"
   ]
  }
 ],
 "metadata": {
  "kernelspec": {
   "display_name": "Python 3",
   "language": "python",
   "name": "python3"
  },
  "language_info": {
   "codemirror_mode": {
    "name": "ipython",
    "version": 3
   },
   "file_extension": ".py",
   "mimetype": "text/x-python",
   "name": "python",
   "nbconvert_exporter": "python",
   "pygments_lexer": "ipython3",
   "version": "3.7.3"
  }
 },
 "nbformat": 4,
 "nbformat_minor": 2
}
